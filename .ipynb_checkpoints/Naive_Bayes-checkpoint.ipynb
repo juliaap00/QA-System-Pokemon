{
 "cells": [
  {
   "cell_type": "code",
   "execution_count": 5,
   "id": "4948b646",
   "metadata": {
    "id": "4948b646"
   },
   "outputs": [],
   "source": [
    "import pandas as pd\n",
    "import numpy as np\n",
    "from sklearn.feature_extraction.text import TfidfVectorizer\n",
    "\n",
    "from sklearn.model_selection import train_test_split\n",
    "from sklearn.naive_bayes import MultinomialNB\n",
    "\n",
    "from sklearn.metrics import accuracy_score\n",
    "\n",
    "from sklearn.naive_bayes import GaussianNB\n",
    "\n",
    "from sklearn.naive_bayes import BernoulliNB\n",
    "from sklearn.metrics import classification_report\n",
    "\n",
    "from sklearn.metrics import confusion_matrix, ConfusionMatrixDisplay\n",
    "import matplotlib.pyplot as plt\n",
    "\n"
   ]
  },
  {
   "cell_type": "markdown",
   "id": "54a534db",
   "metadata": {
    "id": "54a534db"
   },
   "source": [
    "## Preparación de los glosarios\n"
   ]
  },
  {
   "cell_type": "code",
   "execution_count": 6,
   "id": "e3a0105f",
   "metadata": {
    "id": "e3a0105f"
   },
   "outputs": [],
   "source": [
    "from queries_database import queries_df, parameter_list, queries_dict\n",
    "from pokemon_database import pokemon_df\n"
   ]
  },
  {
   "cell_type": "code",
   "execution_count": 7,
   "id": "833e4992",
   "metadata": {
    "id": "833e4992"
   },
   "outputs": [],
   "source": [
    "query = 'que entrada de la pokedex es pikachu'"
   ]
  },
  {
   "cell_type": "code",
   "execution_count": 8,
   "id": "6b087207",
   "metadata": {
    "id": "6b087207"
   },
   "outputs": [],
   "source": [
    "myvocabulary = queries_dict.values()"
   ]
  },
  {
   "cell_type": "code",
   "execution_count": null,
   "id": "0fd082d1",
   "metadata": {},
   "outputs": [],
   "source": []
  },
  {
   "cell_type": "code",
   "execution_count": 9,
   "id": "c8ff2fe1",
   "metadata": {},
   "outputs": [
    {
     "data": {
      "text/plain": [
       "dict_values([['¿Qué número de la pokedex es #pokemon#?', ' ¿Qué entrada es #pokemon# en la pokedex?', ' ¿Como se identifica a #pokemon#?', ' ¿Cuál es el identificador a #pokemon#?', ' ¿En qué página esta #pokemon#?'], ['¿Cuál es la descripción de #pokemon#?', ' ¿Como es #pokemon#?', ' ¿Como describirías a #pokemon#?'], ['¿De qué tipo es #pokemon#?', ' ¿Con que hace más daño #pokemon#?', ' ¿Qué movimientos potencia #pokemon#?', ' ¿Con que pega más #pokemon#?'], ['¿A que es débil #pokemon#?', ' ¿Qué le hace mucho daño a #pokemon#?', ' ¿Qué tiene que evitar #pokemon#?', ' ¿Que debilita o hiere a #pokemon#?', ' ¿Qué le afecta a #pokemon#?'], ['¿Cuánto pesa #pokemon#?', ' ¿Como de pesado es #pokemon#?'], ['¿Cuánto mide #pokemon#?', ' ¿Como de alto es #pokemon#?', ' ¿Como de grande es #pokemon#?'], ['¿Es #pokemon# legendario?', ' ¿Es #pokemon# especial?', ' ¿Es #pokemon# único?', ' ¿#pokemon# proviene de la mitología?'], ['¿Qué habilidades tiene #pokemon#?', ' ¿Qué características tiene #pokemon#?', ' ¿Qué pasiva tiene #pokemon#?'], ['¿Qué habilidades ocultas tiene #pokemon#?', ' ¿Tiene habilidades especiales #pokemon#?', ' ¿#pokemon# tiene habilidades difíciles de conseguir?'], ['¿En qué generación apareció #pokemon#?', ' ¿Cuándo se vio por primera vez a #pokemon#?', ' ¿Cuándo se creó #pokemon#?', ' ¿En qué juego aparecía #pokemon#?'], ['¿Cuál es el hábitat de #pokemon#?', ' ¿Dónde vive #pokemon#?', ' ¿Dónde nace #pokemon#?', ' ¿En qué lugar vive #pokemon#?'], ['¿Cuál es la cadena evolutiva de #pokemon#?', ' ¿Cuál es la evolución #pokemon#?', ' ¿Cuáles son las evoluciones de #pokemon#?', ' ¿Cuáles son las preevoluciones de #pokemon#?', ' ¿#pokemon# evoluciona?'], ['¿Como se obtiene a #pokemon#?', ' ¿Como/Donde se consigue a #pokemon#?', ' ¿Como/Donde se captura a #pokemon#?'], ['¿Cuál es el ratio de captura de #pokemon#?', ' ¿Es fácil capturar a #pokemon#?', ' ¿Es complicado capturar a #pokemon#?', ' ¿Como de probable es capturar a #pokemon#?'], ['¿Qué movimientos aprende #pokemon#?', ' ¿Que aprende #pokemon#?', ' ¿Qué ataques puede hacer #pokemon#?', ' ¿Con que puede atacar #pokemon#?']])"
      ]
     },
     "execution_count": 9,
     "metadata": {},
     "output_type": "execute_result"
    }
   ],
   "source": [
    "myvocabulary"
   ]
  },
  {
   "cell_type": "code",
   "execution_count": null,
   "id": "0d16d26c",
   "metadata": {
    "id": "0d16d26c"
   },
   "outputs": [],
   "source": []
  },
  {
   "cell_type": "markdown",
   "id": "FUi28O1Ajhlh",
   "metadata": {
    "id": "FUi28O1Ajhlh"
   },
   "source": [
    "## Generacion de la matriz TF-IDF a partir del glosario extraído"
   ]
  },
  {
   "cell_type": "code",
   "execution_count": 10,
   "id": "5c6bda3e",
   "metadata": {
    "id": "5c6bda3e"
   },
   "outputs": [
    {
     "ename": "NameError",
     "evalue": "name 'train_df' is not defined",
     "output_type": "error",
     "traceback": [
      "\u001b[1;31m---------------------------------------------------------------------------\u001b[0m",
      "\u001b[1;31mNameError\u001b[0m                                 Traceback (most recent call last)",
      "Cell \u001b[1;32mIn[10], line 2\u001b[0m\n\u001b[0;32m      1\u001b[0m vectorizer \u001b[38;5;241m=\u001b[39m TfidfVectorizer(vocabulary \u001b[38;5;241m=\u001b[39m myvocabulary)\n\u001b[1;32m----> 2\u001b[0m x_train \u001b[38;5;241m=\u001b[39m vectorizer\u001b[38;5;241m.\u001b[39mfit_transform(\u001b[43mtrain_df\u001b[49m\u001b[38;5;241m.\u001b[39miloc[:,\u001b[38;5;241m0\u001b[39m])\n\u001b[0;32m      3\u001b[0m x_train \u001b[38;5;241m=\u001b[39m x_train\u001b[38;5;241m.\u001b[39mtoarray()\n\u001b[0;32m      5\u001b[0m x_test  \u001b[38;5;241m=\u001b[39m vectorizer\u001b[38;5;241m.\u001b[39mtransform(test_df\u001b[38;5;241m.\u001b[39miloc[:,\u001b[38;5;241m0\u001b[39m])\n",
      "\u001b[1;31mNameError\u001b[0m: name 'train_df' is not defined"
     ]
    }
   ],
   "source": [
    "vectorizer = TfidfVectorizer(vocabulary = myvocabulary)\n",
    "x_train = vectorizer.fit_transform(train_df.iloc[:,0])\n",
    "x_train = x_train.toarray()\n",
    "\n",
    "x_test  = vectorizer.transform(test_df.iloc[:,0])\n",
    "x_test = x_test.toarray()\n",
    "\n",
    "y_train = train_df.iloc[:,1]\n",
    "y_test  = test_df.iloc[:,1]\n"
   ]
  },
  {
   "cell_type": "code",
   "execution_count": null,
   "id": "5f780c6a",
   "metadata": {
    "id": "5f780c6a",
    "outputId": "ca14a8ba-d18f-4fbf-bd87-7fc9f486d539"
   },
   "outputs": [],
   "source": [
    "df_x_train = pd.DataFrame(x_train)\n",
    "df_x_train.columns = myvocabulary\n",
    "y_test"
   ]
  },
  {
   "cell_type": "code",
   "execution_count": null,
   "id": "8f7de326",
   "metadata": {
    "id": "8f7de326"
   },
   "outputs": [],
   "source": [
    "df_y_train = train_df.iloc[:,1]\n",
    "df_y_train"
   ]
  },
  {
   "cell_type": "code",
   "execution_count": null,
   "id": "6f5be37e",
   "metadata": {
    "id": "6f5be37e",
    "outputId": "20d41066-c31f-44bf-f9d5-234fd617c56f"
   },
   "outputs": [],
   "source": [
    "target_names = ['Deportes', 'Salud', 'Politica']"
   ]
  },
  {
   "cell_type": "markdown",
   "id": "b97d923a",
   "metadata": {},
   "source": [
    "#### Entrenamiento del modelo y obtencion de la precisión del mismo"
   ]
  },
  {
   "cell_type": "code",
   "execution_count": null,
   "id": "rKkKCvDTj6RQ",
   "metadata": {
    "id": "rKkKCvDTj6RQ"
   },
   "outputs": [],
   "source": [
    "def try_model(model, x_train, y_train, x_test, y_test, model_name):\n",
    "    model.fit(x_train, y_train)\n",
    "    predicciones = model.predict(x_test)\n",
    "    print(accuracy_score(predicciones, y_test))\n",
    "    predicciones_prob = get_prediction_metrics(model, model_name, x_test) \n",
    "    return predicciones, predicciones_prob\n",
    "  "
   ]
  },
  {
   "cell_type": "code",
   "execution_count": null,
   "id": "kuYSMOD6ktzh",
   "metadata": {
    "id": "kuYSMOD6ktzh"
   },
   "outputs": [],
   "source": [
    "def get_prediction_metrics(model, model_name, x_test):\n",
    "  predicciones_prob = model.predict_proba(x_test)\n",
    "  predicciones_rounded = [np.round(x,2) for x in predicciones_prob]\n",
    "\n",
    "  #df_predicciones = pd.DataFrame(predicciones_rounded)\n",
    "  #df_predicciones.columns=['Deportes', 'Salud', 'Politica']\n",
    "  #df_predicciones.index.name = 'Documento'\n",
    "  #df_predicciones.to_excel(f\"./resultados/Naive Bayes/predicciones-{model_name}.xlsx\")\n",
    "  return predicciones_rounded\n"
   ]
  },
  {
   "cell_type": "markdown",
   "id": "c2ceb512",
   "metadata": {},
   "source": [
    "#### Obtención de informe sobre los reusltados de la clasificación"
   ]
  },
  {
   "cell_type": "code",
   "execution_count": null,
   "id": "NYmIeakfmSFR",
   "metadata": {
    "id": "NYmIeakfmSFR"
   },
   "outputs": [],
   "source": [
    "def get_report(predicciones, target_names, y_test):\n",
    "    informe = classification_report(y_test, predicciones, target_names=target_names, digits=3)\n",
    "    print(informe)\n",
    "    informe = classification_report(y_test, predicciones, target_names=target_names, digits=3, output_dict=True)\n",
    "    df_informe = pd.DataFrame(informe).transpose()\n",
    "    print(df_informe)"
   ]
  },
  {
   "cell_type": "markdown",
   "id": "a1e0b8b3",
   "metadata": {},
   "source": [
    "#### Obtención de la matriz de confusion del modelo\n"
   ]
  },
  {
   "cell_type": "code",
   "execution_count": null,
   "id": "EuTJqli5m86g",
   "metadata": {
    "id": "EuTJqli5m86g"
   },
   "outputs": [],
   "source": [
    "def get_confussion_matrix(model, y_test, predicciones):\n",
    "    cm = confusion_matrix(y_test, predicciones, labels=model.classes_)\n",
    "    disp = ConfusionMatrixDisplay(confusion_matrix=cm, display_labels=model.classes_)\n",
    "    disp.plot()\n",
    "    plt.show()\n"
   ]
  },
  {
   "cell_type": "code",
   "execution_count": null,
   "id": "5db2e94e",
   "metadata": {},
   "outputs": [],
   "source": [
    "def predictions_to_excel(predicciones, prob_predicciones):\n",
    "    df_predicciones = pd.DataFrame()\n",
    "    \n",
    "    \n",
    "    df_predicciones[\"predicted_class\"] = []\n",
    "    df_predicciones[\"probability\"] = []\n",
    "    \n",
    "    \n",
    "    \n",
    "    for i in range(len(predicciones)):\n",
    "        df_predicciones.loc[len(df_predicciones)] = [predicciones[i], prob_predicciones[i][predicciones[i]]]\n",
    "    return df_predicciones\n",
    "    "
   ]
  },
  {
   "cell_type": "markdown",
   "id": "3P-ABb7ljxBX",
   "metadata": {
    "id": "3P-ABb7ljxBX"
   },
   "source": [
    "### Multinomial Naive Bayes"
   ]
  },
  {
   "cell_type": "code",
   "execution_count": null,
   "id": "6bfd182f",
   "metadata": {
    "id": "6bfd182f",
    "scrolled": true
   },
   "outputs": [],
   "source": [
    "multinomial_naive_bayes = MultinomialNB()\n",
    "predicciones,prob_predicciones = try_model(multinomial_naive_bayes, x_train, y_train, x_test, y_test,'multinomial')\n"
   ]
  },
  {
   "cell_type": "code",
   "execution_count": null,
   "id": "49227013",
   "metadata": {},
   "outputs": [],
   "source": [
    "get_report(predicciones, target_names, y_test)"
   ]
  },
  {
   "cell_type": "code",
   "execution_count": null,
   "id": "698c406f",
   "metadata": {},
   "outputs": [],
   "source": [
    "get_confussion_matrix(multinomial_naive_bayes, y_test, predicciones)"
   ]
  },
  {
   "cell_type": "code",
   "execution_count": null,
   "id": "67b00b31",
   "metadata": {},
   "outputs": [],
   "source": [
    "test_df =  pd.read_excel('./corpus/test.xlsx')\n",
    "df_predicciones = predictions_to_excel(predicciones,prob_predicciones)\n",
    "df_predicciones = pd.concat([test_df,df_predicciones],axis=1).ffill()  \n",
    "\n",
    "#df_predcciones_total.to_excel(\"./corpus/test-predicciones.xlsx\", index= False)"
   ]
  },
  {
   "cell_type": "code",
   "execution_count": null,
   "id": "4646b46e",
   "metadata": {},
   "outputs": [],
   "source": [
    "df_predicciones"
   ]
  },
  {
   "cell_type": "code",
   "execution_count": null,
   "id": "e7ae30a1",
   "metadata": {},
   "outputs": [],
   "source": [
    "df_predicciones[df_predicciones['class'] != df_predicciones['predicted_class']]"
   ]
  }
 ],
 "metadata": {
  "colab": {
   "provenance": []
  },
  "kernelspec": {
   "display_name": "Python 3 (ipykernel)",
   "language": "python",
   "name": "python3"
  },
  "language_info": {
   "codemirror_mode": {
    "name": "ipython",
    "version": 3
   },
   "file_extension": ".py",
   "mimetype": "text/x-python",
   "name": "python",
   "nbconvert_exporter": "python",
   "pygments_lexer": "ipython3",
   "version": "3.11.0"
  }
 },
 "nbformat": 4,
 "nbformat_minor": 5
}
